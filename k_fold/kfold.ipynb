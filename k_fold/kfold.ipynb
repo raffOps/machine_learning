{
 "cells": [
  {
   "cell_type": "code",
   "execution_count": 1,
   "id": "7f213660-b72e-420d-95cb-378474ba0282",
   "metadata": {},
   "outputs": [],
   "source": [
    "import random\n",
    "import numpy as np\n",
    "import pandas as pd\n",
    "from sklearn.ensemble import RandomForestClassifier\n",
    "from sklearn.preprocessing import MinMaxScaler\n",
    "from sklearn.model_selection import train_test_split\n",
    "from sklearn.metrics import accuracy_score"
   ]
  },
  {
   "cell_type": "code",
   "execution_count": 2,
   "id": "34286fdf-d005-479b-8483-12ddb50d73c5",
   "metadata": {},
   "outputs": [],
   "source": [
    "random.seed(10)"
   ]
  },
  {
   "cell_type": "markdown",
   "id": "2063e6f1-2d3a-4994-be64-794977a48229",
   "metadata": {},
   "source": [
    "# Informações sobre o dataset"
   ]
  },
  {
   "cell_type": "code",
   "execution_count": 3,
   "id": "e65a1141-7af0-46c6-9c87-4150d449fad6",
   "metadata": {},
   "outputs": [
    {
     "name": "stdout",
     "output_type": "stream",
     "text": [
      "<class 'pandas.core.frame.DataFrame'>\n",
      "RangeIndex: 1599 entries, 0 to 1598\n",
      "Data columns (total 12 columns):\n",
      " #   Column                Non-Null Count  Dtype  \n",
      "---  ------                --------------  -----  \n",
      " 0   fixed acidity         1599 non-null   float64\n",
      " 1   volatile acidity      1599 non-null   float64\n",
      " 2   citric acid           1599 non-null   float64\n",
      " 3   residual sugar        1599 non-null   float64\n",
      " 4   chlorides             1599 non-null   float64\n",
      " 5   free sulfur dioxide   1599 non-null   float64\n",
      " 6   total sulfur dioxide  1599 non-null   float64\n",
      " 7   density               1599 non-null   float64\n",
      " 8   pH                    1599 non-null   float64\n",
      " 9   sulphates             1599 non-null   float64\n",
      " 10  alcohol               1599 non-null   float64\n",
      " 11  quality               1599 non-null   int64  \n",
      "dtypes: float64(11), int64(1)\n",
      "memory usage: 150.0 KB\n"
     ]
    }
   ],
   "source": [
    "df = pd.read_csv(\"https://archive.ics.uci.edu/ml/machine-learning-databases/wine-quality/winequality-red.csv\", sep=\";\")\n",
    "df.info()"
   ]
  },
  {
   "cell_type": "markdown",
   "id": "e8763da4-ef6a-43cf-baff-dabc3e6d1a45",
   "metadata": {},
   "source": [
    "# Quantidade de dados por classe"
   ]
  },
  {
   "cell_type": "code",
   "execution_count": 62,
   "id": "26cadae4-ee94-4b4f-93bc-3aafc8f7e377",
   "metadata": {},
   "outputs": [
    {
     "data": {
      "text/plain": [
       "5    681\n",
       "6    638\n",
       "7    199\n",
       "4     53\n",
       "8     18\n",
       "3     10\n",
       "Name: quality, dtype: int64"
      ]
     },
     "execution_count": 62,
     "metadata": {},
     "output_type": "execute_result"
    }
   ],
   "source": [
    "df.quality.value_counts()"
   ]
  },
  {
   "cell_type": "markdown",
   "id": "f7141952-0afa-4366-8047-98cfa97814d2",
   "metadata": {},
   "source": [
    "## Mapeamento para classe binárias:\n",
    "\n",
    "- 0: menor ou igual a 5\n",
    "- 1: maior que 5"
   ]
  },
  {
   "cell_type": "code",
   "execution_count": 63,
   "id": "223ef918-b7e6-43e4-befa-3066d4f41de4",
   "metadata": {},
   "outputs": [],
   "source": [
    "y = df.quality.apply(lambda quality: 0 if quality <= 5 else 1)"
   ]
  },
  {
   "cell_type": "code",
   "execution_count": 64,
   "id": "8a54f9a1-ddf6-4d2b-aeea-4c23897f5e36",
   "metadata": {},
   "outputs": [
    {
     "data": {
      "text/plain": [
       "1    855\n",
       "0    744\n",
       "Name: quality, dtype: int64"
      ]
     },
     "execution_count": 64,
     "metadata": {},
     "output_type": "execute_result"
    }
   ],
   "source": [
    "y.value_counts()"
   ]
  },
  {
   "cell_type": "markdown",
   "id": "c40144ee-d3f3-427f-b6e9-08b3500692a9",
   "metadata": {},
   "source": [
    "# Distribuição dos atributos"
   ]
  },
  {
   "cell_type": "code",
   "execution_count": 7,
   "id": "87be57f6-d4d8-43e2-a208-45bb265935fc",
   "metadata": {},
   "outputs": [
    {
     "data": {
      "text/html": [
       "<div>\n",
       "<style scoped>\n",
       "    .dataframe tbody tr th:only-of-type {\n",
       "        vertical-align: middle;\n",
       "    }\n",
       "\n",
       "    .dataframe tbody tr th {\n",
       "        vertical-align: top;\n",
       "    }\n",
       "\n",
       "    .dataframe thead th {\n",
       "        text-align: right;\n",
       "    }\n",
       "</style>\n",
       "<table border=\"1\" class=\"dataframe\">\n",
       "  <thead>\n",
       "    <tr style=\"text-align: right;\">\n",
       "      <th></th>\n",
       "      <th>fixed acidity</th>\n",
       "      <th>volatile acidity</th>\n",
       "      <th>citric acid</th>\n",
       "      <th>residual sugar</th>\n",
       "      <th>chlorides</th>\n",
       "      <th>free sulfur dioxide</th>\n",
       "      <th>total sulfur dioxide</th>\n",
       "      <th>density</th>\n",
       "      <th>pH</th>\n",
       "      <th>sulphates</th>\n",
       "      <th>alcohol</th>\n",
       "    </tr>\n",
       "  </thead>\n",
       "  <tbody>\n",
       "    <tr>\n",
       "      <th>count</th>\n",
       "      <td>1599.000000</td>\n",
       "      <td>1599.000000</td>\n",
       "      <td>1599.000000</td>\n",
       "      <td>1599.000000</td>\n",
       "      <td>1599.000000</td>\n",
       "      <td>1599.000000</td>\n",
       "      <td>1599.000000</td>\n",
       "      <td>1599.000000</td>\n",
       "      <td>1599.000000</td>\n",
       "      <td>1599.000000</td>\n",
       "      <td>1599.000000</td>\n",
       "    </tr>\n",
       "    <tr>\n",
       "      <th>mean</th>\n",
       "      <td>8.319637</td>\n",
       "      <td>0.527821</td>\n",
       "      <td>0.270976</td>\n",
       "      <td>2.538806</td>\n",
       "      <td>0.087467</td>\n",
       "      <td>15.874922</td>\n",
       "      <td>46.467792</td>\n",
       "      <td>0.996747</td>\n",
       "      <td>3.311113</td>\n",
       "      <td>0.658149</td>\n",
       "      <td>10.422983</td>\n",
       "    </tr>\n",
       "    <tr>\n",
       "      <th>std</th>\n",
       "      <td>1.741096</td>\n",
       "      <td>0.179060</td>\n",
       "      <td>0.194801</td>\n",
       "      <td>1.409928</td>\n",
       "      <td>0.047065</td>\n",
       "      <td>10.460157</td>\n",
       "      <td>32.895324</td>\n",
       "      <td>0.001887</td>\n",
       "      <td>0.154386</td>\n",
       "      <td>0.169507</td>\n",
       "      <td>1.065668</td>\n",
       "    </tr>\n",
       "    <tr>\n",
       "      <th>min</th>\n",
       "      <td>4.600000</td>\n",
       "      <td>0.120000</td>\n",
       "      <td>0.000000</td>\n",
       "      <td>0.900000</td>\n",
       "      <td>0.012000</td>\n",
       "      <td>1.000000</td>\n",
       "      <td>6.000000</td>\n",
       "      <td>0.990070</td>\n",
       "      <td>2.740000</td>\n",
       "      <td>0.330000</td>\n",
       "      <td>8.400000</td>\n",
       "    </tr>\n",
       "    <tr>\n",
       "      <th>25%</th>\n",
       "      <td>7.100000</td>\n",
       "      <td>0.390000</td>\n",
       "      <td>0.090000</td>\n",
       "      <td>1.900000</td>\n",
       "      <td>0.070000</td>\n",
       "      <td>7.000000</td>\n",
       "      <td>22.000000</td>\n",
       "      <td>0.995600</td>\n",
       "      <td>3.210000</td>\n",
       "      <td>0.550000</td>\n",
       "      <td>9.500000</td>\n",
       "    </tr>\n",
       "    <tr>\n",
       "      <th>50%</th>\n",
       "      <td>7.900000</td>\n",
       "      <td>0.520000</td>\n",
       "      <td>0.260000</td>\n",
       "      <td>2.200000</td>\n",
       "      <td>0.079000</td>\n",
       "      <td>14.000000</td>\n",
       "      <td>38.000000</td>\n",
       "      <td>0.996750</td>\n",
       "      <td>3.310000</td>\n",
       "      <td>0.620000</td>\n",
       "      <td>10.200000</td>\n",
       "    </tr>\n",
       "    <tr>\n",
       "      <th>75%</th>\n",
       "      <td>9.200000</td>\n",
       "      <td>0.640000</td>\n",
       "      <td>0.420000</td>\n",
       "      <td>2.600000</td>\n",
       "      <td>0.090000</td>\n",
       "      <td>21.000000</td>\n",
       "      <td>62.000000</td>\n",
       "      <td>0.997835</td>\n",
       "      <td>3.400000</td>\n",
       "      <td>0.730000</td>\n",
       "      <td>11.100000</td>\n",
       "    </tr>\n",
       "    <tr>\n",
       "      <th>max</th>\n",
       "      <td>15.900000</td>\n",
       "      <td>1.580000</td>\n",
       "      <td>1.000000</td>\n",
       "      <td>15.500000</td>\n",
       "      <td>0.611000</td>\n",
       "      <td>72.000000</td>\n",
       "      <td>289.000000</td>\n",
       "      <td>1.003690</td>\n",
       "      <td>4.010000</td>\n",
       "      <td>2.000000</td>\n",
       "      <td>14.900000</td>\n",
       "    </tr>\n",
       "  </tbody>\n",
       "</table>\n",
       "</div>"
      ],
      "text/plain": [
       "       fixed acidity  volatile acidity  citric acid  residual sugar  \\\n",
       "count    1599.000000       1599.000000  1599.000000     1599.000000   \n",
       "mean        8.319637          0.527821     0.270976        2.538806   \n",
       "std         1.741096          0.179060     0.194801        1.409928   \n",
       "min         4.600000          0.120000     0.000000        0.900000   \n",
       "25%         7.100000          0.390000     0.090000        1.900000   \n",
       "50%         7.900000          0.520000     0.260000        2.200000   \n",
       "75%         9.200000          0.640000     0.420000        2.600000   \n",
       "max        15.900000          1.580000     1.000000       15.500000   \n",
       "\n",
       "         chlorides  free sulfur dioxide  total sulfur dioxide      density  \\\n",
       "count  1599.000000          1599.000000           1599.000000  1599.000000   \n",
       "mean      0.087467            15.874922             46.467792     0.996747   \n",
       "std       0.047065            10.460157             32.895324     0.001887   \n",
       "min       0.012000             1.000000              6.000000     0.990070   \n",
       "25%       0.070000             7.000000             22.000000     0.995600   \n",
       "50%       0.079000            14.000000             38.000000     0.996750   \n",
       "75%       0.090000            21.000000             62.000000     0.997835   \n",
       "max       0.611000            72.000000            289.000000     1.003690   \n",
       "\n",
       "                pH    sulphates      alcohol  \n",
       "count  1599.000000  1599.000000  1599.000000  \n",
       "mean      3.311113     0.658149    10.422983  \n",
       "std       0.154386     0.169507     1.065668  \n",
       "min       2.740000     0.330000     8.400000  \n",
       "25%       3.210000     0.550000     9.500000  \n",
       "50%       3.310000     0.620000    10.200000  \n",
       "75%       3.400000     0.730000    11.100000  \n",
       "max       4.010000     2.000000    14.900000  "
      ]
     },
     "execution_count": 7,
     "metadata": {},
     "output_type": "execute_result"
    }
   ],
   "source": [
    "df.iloc[:,:-1].describe()"
   ]
  },
  {
   "cell_type": "markdown",
   "id": "2ebaa4ed-9ee2-4527-886d-7268341f55b0",
   "metadata": {},
   "source": [
    "## Normalização necessária devido a grande variação entre as escalas dos atributos"
   ]
  },
  {
   "cell_type": "code",
   "execution_count": 65,
   "id": "5712b47f-6944-45c3-8e13-213bf61be953",
   "metadata": {},
   "outputs": [],
   "source": [
    "min_max_scaler = MinMaxScaler()\n",
    "min_max_scaler.fit(df.iloc[:,:-1])\n",
    "X =  min_max_scaler.fit_transform(df.iloc[:,:-1])"
   ]
  },
  {
   "cell_type": "markdown",
   "id": "9d7ddef6-e5bc-4fd4-ac9d-ccbfcdf7923a",
   "metadata": {},
   "source": [
    "# Estrutura de dados\n",
    "\n",
    "Lista de tuplas(atributos, classe)"
   ]
  },
  {
   "cell_type": "code",
   "execution_count": 66,
   "id": "43d1de46-b2f9-4185-9b2d-f945d74c2371",
   "metadata": {},
   "outputs": [],
   "source": [
    "df_values = list(zip(X, y))"
   ]
  },
  {
   "cell_type": "code",
   "execution_count": 67,
   "id": "fff5f52c-9a2c-4e39-ac76-3291f6f349de",
   "metadata": {},
   "outputs": [
    {
     "data": {
      "text/plain": [
       "[(array([0.24778761, 0.39726027, 0.        , 0.06849315, 0.10684474,\n",
       "         0.14084507, 0.09893993, 0.56754772, 0.60629921, 0.13772455,\n",
       "         0.15384615]),\n",
       "  0),\n",
       " (array([0.28318584, 0.52054795, 0.        , 0.11643836, 0.14357262,\n",
       "         0.33802817, 0.2155477 , 0.49412628, 0.36220472, 0.20958084,\n",
       "         0.21538462]),\n",
       "  0),\n",
       " (array([0.28318584, 0.43835616, 0.04      , 0.09589041, 0.13355593,\n",
       "         0.1971831 , 0.16961131, 0.50881057, 0.40944882, 0.19161677,\n",
       "         0.21538462]),\n",
       "  0)]"
      ]
     },
     "execution_count": 67,
     "metadata": {},
     "output_type": "execute_result"
    }
   ],
   "source": [
    "df_values[:3]"
   ]
  },
  {
   "cell_type": "code",
   "execution_count": 11,
   "id": "04f54968-39c8-4556-9e31-889982be1179",
   "metadata": {},
   "outputs": [],
   "source": [
    "K = 4"
   ]
  },
  {
   "cell_type": "code",
   "execution_count": 12,
   "id": "5a2ca01f-16ee-4c01-a5e9-01f9b9fcd92f",
   "metadata": {},
   "outputs": [],
   "source": [
    "def initialize_folds(k: int) -> list[list]:\n",
    "    return [[] for k in range(K)]"
   ]
  },
  {
   "cell_type": "code",
   "execution_count": 13,
   "id": "0c2b04ae-9454-44f9-ae79-8f72f20662de",
   "metadata": {},
   "outputs": [],
   "source": [
    "indexes_with_false_label = [index for index, value in enumerate(df_values) if value[1] == 0]\n",
    "indexes_with_true_label = [index for index, value in enumerate(df_values) if value[1] == 1]"
   ]
  },
  {
   "cell_type": "code",
   "execution_count": 14,
   "id": "97f7a936-bc57-4e68-ba6d-ad20f46f4dbf",
   "metadata": {},
   "outputs": [],
   "source": [
    "random.shuffle(indexes_with_false_label)\n",
    "random.shuffle(indexes_with_true_label)"
   ]
  },
  {
   "cell_type": "code",
   "execution_count": 15,
   "id": "d1a3f70c-7a02-47b9-8775-14160d34f884",
   "metadata": {},
   "outputs": [],
   "source": [
    "folds = initialize_folds(K)\n",
    "for _ in range(int(len(df_values) / K)):\n",
    "    try:\n",
    "        for fold in folds:\n",
    "            index_false_label = indexes_with_false_label.pop(0)\n",
    "            index_true_label = indexes_with_true_label.pop(0)\n",
    "            fold.extend([index_false_label, index_true_label])\n",
    "    except IndexError:\n",
    "        break"
   ]
  },
  {
   "cell_type": "code",
   "execution_count": 60,
   "id": "da5035d2-eaef-4b21-961a-5547f7191b4c",
   "metadata": {},
   "outputs": [],
   "source": [
    "def test_folds_totally_disjointed(folds: list[list[int]]) -> None:\n",
    "    joined_folds = set()\n",
    "    for fold in folds:\n",
    "        joined_folds = joined_folds.union(fold)\n",
    "        \n",
    "    assert len(joined_folds) == len(folds[0]) * len(folds)"
   ]
  },
  {
   "cell_type": "code",
   "execution_count": 61,
   "id": "d46582b7-e45a-4c37-84c5-d53224636472",
   "metadata": {},
   "outputs": [],
   "source": [
    "test_folds_totally_disjointed(folds)"
   ]
  },
  {
   "cell_type": "code",
   "execution_count": 59,
   "id": "98419f17-b7b3-43d3-8c8c-276c237d04da",
   "metadata": {},
   "outputs": [
    {
     "name": "stdout",
     "output_type": "stream",
     "text": [
      "0.5\n",
      "0.5\n",
      "0.5\n",
      "0.5\n"
     ]
    }
   ],
   "source": [
    "for fold in folds:\n",
    "    print(np.asarray([values[1] for index, values in enumerate(df_values) if index in fold]).mean())"
   ]
  },
  {
   "cell_type": "code",
   "execution_count": null,
   "id": "a14a543d-45ab-4eec-a680-b1d41906dc89",
   "metadata": {},
   "outputs": [],
   "source": []
  }
 ],
 "metadata": {
  "kernelspec": {
   "display_name": "Python 3 (ipykernel)",
   "language": "python",
   "name": "python3"
  },
  "language_info": {
   "codemirror_mode": {
    "name": "ipython",
    "version": 3
   },
   "file_extension": ".py",
   "mimetype": "text/x-python",
   "name": "python",
   "nbconvert_exporter": "python",
   "pygments_lexer": "ipython3",
   "version": "3.10.5"
  }
 },
 "nbformat": 4,
 "nbformat_minor": 5
}
