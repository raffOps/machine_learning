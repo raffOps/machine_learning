{
 "cells": [
  {
   "cell_type": "code",
   "execution_count": 5,
   "id": "40220b08-39e4-4972-99c8-9088413e19ff",
   "metadata": {},
   "outputs": [],
   "source": [
    "import os\n",
    "import glob\n",
    "import pandas as pd\n",
    "import seaborn as sns\n",
    "from matplotlib import pyplot as plt"
   ]
  },
  {
   "cell_type": "code",
   "execution_count": null,
   "outputs": [],
   "source": [
    "def get_tunning_reports(classifier_name: str) -> pd.DataFrame:\n",
    "    tunning_reports = glob.glob(os.path.join(f\"../data/results/{classifier_name}/tunning\", \"*.csv\"))\n",
    "\n",
    "    df = pd.concat((pd.read_csv(f, index_col=0) for f in tunning_reports), ignore_index=True)\n",
    "    return df"
   ],
   "metadata": {
    "collapsed": false,
    "pycharm": {
     "name": "#%%\n"
    }
   }
  },
  {
   "cell_type": "code",
   "execution_count": null,
   "outputs": [],
   "source": [
    "knn = pd.read_csv(\"../data/results/k-nearest_neighbors/validation.csv\", index_col=0)\n",
    "plt.figure(figsize=(15, 5), dpi=200)\n",
    "g = sns.boxplot(knn[[\"train_accuracy\", \"validation_accuracy\",\n",
    "                     \"train_precision\", \"validation_precision\",\n",
    "                     \"train_recall\", \"validation_recall\",\n",
    "                     \"train_f1_score\", \"validation_f1_score\"]])\n",
    "\n",
    "g.set_xticklabels([\"Train Accuracy\", \"Validation Accuracy\",\n",
    "                     \"Train Precision\", \"Validation Precision\",\n",
    "                     \"Train Recall\", \"Validation Recall\",\n",
    "                     \"Train F1 score\", \"Validation F1 score\"])\n",
    "plt.title(\"KNN: train and validation metrics for balanced dataset (1/1)\")\n",
    "plt.savefig('../images/k-nearest_neighbors_validation_balanced.jpg', bbox_inches='tight');"
   ],
   "metadata": {
    "collapsed": false,
    "pycharm": {
     "name": "#%%\n"
    }
   }
  },
  {
   "cell_type": "code",
   "execution_count": null,
   "outputs": [],
   "source": [
    "knn_tunning = get_tunning_reports(\"k-nearest_neighbors\")\n",
    "g = sns.catplot(\n",
    "    data=knn_tunning, x=\"n_neighbors\", y=\"f1_mean_score\", col=\"metric\",\n",
    "    kind=\"box\", dodge=False,\n",
    ")\n",
    "g.fig.suptitle('KNN tunning for balanced dataset (1/1)')\n",
    "g.fig.subplots_adjust(top=0.85)\n",
    "g.set(xlabel=\"Number of Neighbors\", ylabel=\"mean F1 score\")\n",
    "g.set_titles(\"Distance Metric = {col_name}\")\n",
    "plt.savefig('../images/k-nearest_neighbors_tunning_balanced.jpg', bbox_inches='tight')"
   ],
   "metadata": {
    "collapsed": false,
    "pycharm": {
     "name": "#%%\n"
    }
   }
  },
  {
   "cell_type": "code",
   "execution_count": null,
   "outputs": [],
   "source": [
    "logistic = pd.read_csv(\"../data/results/logistic_regression/validation.csv\", index_col=0)\n",
    "plt.figure(figsize=(15, 5), dpi=200)\n",
    "g = sns.boxplot(logistic[[\"train_accuracy\", \"validation_accuracy\",\n",
    "                     \"train_precision\", \"validation_precision\",\n",
    "                     \"train_recall\", \"validation_recall\",\n",
    "                     \"train_f1_score\", \"validation_f1_score\"]])\n",
    "g.set_xticklabels([\"Train Accuracy\", \"Validation Accuracy\",\n",
    "                     \"Train Precision\", \"Validation Precision\",\n",
    "                     \"Train Recall\", \"Validation Recall\",\n",
    "                     \"Train F1 score\", \"Validation F1 score\"])\n",
    "plt.title(\"Logistic Regression: train and validation metrics for balanced dataset (1/1)\")\n",
    "plt.savefig('../images/logistic_regression_validation_balanced.jpg', bbox_inches='tight');"
   ],
   "metadata": {
    "collapsed": false,
    "pycharm": {
     "name": "#%%\n"
    }
   }
  },
  {
   "cell_type": "code",
   "execution_count": null,
   "outputs": [],
   "source": [
    "logistic_tunning = get_tunning_reports(\"logistic_regression\")\n",
    "g = sns.catplot(\n",
    "    data=logistic_tunning, x=\"C\", y=\"f1_mean_score\", col=\"penalty\",\n",
    "    kind=\"box\", dodge=False,\n",
    ")\n",
    "g.fig.suptitle('Logistic Regression tunning for balanced dataset (1/1)')\n",
    "g.fig.subplots_adjust(top=0.85)\n",
    "plt.ylim([0.69,0.76])\n",
    "g.set(xlabel=\"C\", ylabel=\"mean F1 score\")\n",
    "g.set_titles(\"Penalty = {col_name}\")\n",
    "plt.savefig('../images/logistic_regression_tunning_balanced.jpg', bbox_inches='tight')"
   ],
   "metadata": {
    "collapsed": false,
    "pycharm": {
     "name": "#%%\n"
    }
   }
  },
  {
   "cell_type": "code",
   "execution_count": null,
   "outputs": [],
   "source": [
    "random_forest = pd.read_csv(\"../data/results/random_forest/validation.csv\", index_col=0)\n",
    "plt.figure(figsize=(15, 5), dpi=200)\n",
    "g = sns.boxplot(random_forest[[\"train_accuracy\", \"validation_accuracy\",\n",
    "                     \"train_precision\", \"validation_precision\",\n",
    "                     \"train_recall\", \"validation_recall\",\n",
    "                     \"train_f1_score\", \"validation_f1_score\"]])\n",
    "g.set_xticklabels([\"Train Accuracy\", \"Validation Accuracy\",\n",
    "                     \"Train Precision\", \"Validation Precision\",\n",
    "                     \"Train Recall\", \"Validation Recall\",\n",
    "                     \"Train F1 score\", \"Validation F1 score\"])\n",
    "plt.title(\"Random Forest: train and validation metrics for balanced dataset (1/1)\")\n",
    "plt.savefig('../images/random_forest_validation_balanced.jpg', bbox_inches='tight');"
   ],
   "metadata": {
    "collapsed": false,
    "pycharm": {
     "name": "#%%\n"
    }
   }
  },
  {
   "cell_type": "code",
   "execution_count": null,
   "outputs": [],
   "source": [
    "random_forest_tunning = get_tunning_reports(\"random_forest\")\n",
    "g = sns.catplot(\n",
    "    data=random_forest_tunning, x=\"n_estimators\", y=\"f1_mean_score\", col=\"criterion\",\n",
    "    kind=\"box\", dodge=False,\n",
    ")\n",
    "g.fig.suptitle('Random Forest tunning for balanced dataset (1/1)')\n",
    "g.fig.subplots_adjust(top=0.85)\n",
    "g.set(xlabel=\"Number of estimators\", ylabel=\"mean F1 score\")\n",
    "g.set_titles(\"Criterion = {col_name}\")\n",
    "plt.savefig('../images/random_forest_tunning_balanced.jpg', bbox_inches='tight')"
   ],
   "metadata": {
    "collapsed": false,
    "pycharm": {
     "name": "#%%\n"
    }
   }
  }
 ],
 "metadata": {
  "kernelspec": {
   "display_name": "Python 3 (ipykernel)",
   "language": "python",
   "name": "python3"
  },
  "language_info": {
   "codemirror_mode": {
    "name": "ipython",
    "version": 3
   },
   "file_extension": ".py",
   "mimetype": "text/x-python",
   "name": "python",
   "nbconvert_exporter": "python",
   "pygments_lexer": "ipython3",
   "version": "3.10.5"
  }
 },
 "nbformat": 4,
 "nbformat_minor": 5
}