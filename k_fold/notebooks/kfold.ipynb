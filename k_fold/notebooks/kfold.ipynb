{
 "cells": [
  {
   "cell_type": "code",
   "execution_count": 1,
   "id": "890887e2",
   "metadata": {
    "collapsed": false,
    "jupyter": {
     "outputs_hidden": false
    },
    "pycharm": {
     "name": "#%%\n"
    }
   },
   "outputs": [],
   "source": [
    "import random\n",
    "from typing import Generator\n",
    "\n",
    "import numpy as np\n",
    "import pandas as pd\n",
    "import seaborn as sns\n",
    "from matplotlib import pyplot as plt\n",
    "\n",
    "from sklearn.ensemble import RandomForestClassifier\n",
    "from sklearn.preprocessing import MinMaxScaler\n",
    "from sklearn.model_selection import train_test_split\n",
    "from sklearn.metrics import accuracy_score"
   ]
  },
  {
   "cell_type": "code",
   "execution_count": 2,
   "id": "7d96e0fd",
   "metadata": {
    "collapsed": false,
    "jupyter": {
     "outputs_hidden": false
    },
    "pycharm": {
     "name": "#%%\n"
    }
   },
   "outputs": [],
   "source": [
    "random.seed(10)"
   ]
  },
  {
   "cell_type": "markdown",
   "id": "aa0e756b",
   "metadata": {
    "pycharm": {
     "name": "#%% md\n"
    }
   },
   "source": [
    "# Informações sobre o dataset"
   ]
  },
  {
   "cell_type": "code",
   "execution_count": 19,
   "id": "41c003b7",
   "metadata": {
    "collapsed": false,
    "jupyter": {
     "outputs_hidden": false
    },
    "pycharm": {
     "name": "#%%\n"
    }
   },
   "outputs": [
    {
     "name": "stdout",
     "output_type": "stream",
     "text": [
      "<class 'pandas.core.frame.DataFrame'>\n",
      "RangeIndex: 4898 entries, 0 to 4897\n",
      "Data columns (total 12 columns):\n",
      " #   Column                Non-Null Count  Dtype  \n",
      "---  ------                --------------  -----  \n",
      " 0   fixed acidity         4898 non-null   float64\n",
      " 1   volatile acidity      4898 non-null   float64\n",
      " 2   citric acid           4898 non-null   float64\n",
      " 3   residual sugar        4898 non-null   float64\n",
      " 4   chlorides             4898 non-null   float64\n",
      " 5   free sulfur dioxide   4898 non-null   float64\n",
      " 6   total sulfur dioxide  4898 non-null   float64\n",
      " 7   density               4898 non-null   float64\n",
      " 8   pH                    4898 non-null   float64\n",
      " 9   sulphates             4898 non-null   float64\n",
      " 10  alcohol               4898 non-null   float64\n",
      " 11  quality               4898 non-null   int64  \n",
      "dtypes: float64(11), int64(1)\n",
      "memory usage: 459.3 KB\n"
     ]
    }
   ],
   "source": [
    "df = pd.read_csv(\"https://archive.ics.uci.edu/ml/machine-learning-databases/wine-quality/winequality-white.csv\", sep=\";\")\n",
    "df.info()"
   ]
  },
  {
   "cell_type": "markdown",
   "id": "b0160975",
   "metadata": {
    "pycharm": {
     "name": "#%% md\n"
    }
   },
   "source": [
    "# Quantidade de dados por classe"
   ]
  },
  {
   "cell_type": "code",
   "execution_count": 20,
   "id": "f4b4cd72",
   "metadata": {
    "collapsed": false,
    "jupyter": {
     "outputs_hidden": false
    },
    "pycharm": {
     "name": "#%%\n"
    }
   },
   "outputs": [
    {
     "data": {
      "text/plain": [
       "6    2198\n",
       "5    1457\n",
       "7     880\n",
       "8     175\n",
       "4     163\n",
       "3      20\n",
       "9       5\n",
       "Name: quality, dtype: int64"
      ]
     },
     "execution_count": 20,
     "metadata": {},
     "output_type": "execute_result"
    }
   ],
   "source": [
    "df.quality.value_counts()"
   ]
  },
  {
   "cell_type": "markdown",
   "id": "d840f0b6",
   "metadata": {
    "pycharm": {
     "name": "#%% md\n"
    }
   },
   "source": [
    "## Mapeamento para classe binárias:\n",
    "\n",
    "- 0: menor ou igual a 5\n",
    "- 1: maior que 5"
   ]
  },
  {
   "cell_type": "code",
   "execution_count": 27,
   "id": "4a28f96f",
   "metadata": {
    "collapsed": false,
    "jupyter": {
     "outputs_hidden": false
    },
    "pycharm": {
     "name": "#%%\n"
    }
   },
   "outputs": [],
   "source": [
    "y = df.quality.apply(lambda quality: 0 if quality <= 5 else 1)"
   ]
  },
  {
   "cell_type": "code",
   "execution_count": 28,
   "id": "bc00dccd",
   "metadata": {
    "collapsed": false,
    "jupyter": {
     "outputs_hidden": false
    },
    "pycharm": {
     "name": "#%%\n"
    }
   },
   "outputs": [
    {
     "data": {
      "text/plain": [
       "1    3258\n",
       "0    1640\n",
       "Name: quality, dtype: int64"
      ]
     },
     "execution_count": 28,
     "metadata": {},
     "output_type": "execute_result"
    }
   ],
   "source": [
    "y.value_counts()"
   ]
  },
  {
   "cell_type": "markdown",
   "id": "fba795c7",
   "metadata": {
    "pycharm": {
     "name": "#%% md\n"
    }
   },
   "source": [
    "# Distribuição dos atributos"
   ]
  },
  {
   "cell_type": "code",
   "execution_count": null,
   "id": "60202e01",
   "metadata": {
    "collapsed": false,
    "jupyter": {
     "outputs_hidden": false
    },
    "pycharm": {
     "name": "#%%\n"
    }
   },
   "outputs": [],
   "source": [
    "plt.figure(figsize=(15, 5), dpi=200)\n",
    "sns.boxplot(df.iloc[:,:-1])\n",
    "plt.title(\"Dataset Wine Quality: \")\n",
    "plt.savefig('../images/logistic_regression_validation.jpg', bbox_inches='tight');"
   ]
  },
  {
   "cell_type": "markdown",
   "id": "2ebaa4ed-9ee2-4527-886d-7268341f55b0",
   "metadata": {
    "pycharm": {
     "name": "#%% md\n"
    }
   },
   "source": [
    "## Normalização necessária devido a grande variação entre as escalas dos atributos"
   ]
  },
  {
   "cell_type": "code",
   "execution_count": 12,
   "id": "5712b47f-6944-45c3-8e13-213bf61be953",
   "metadata": {
    "pycharm": {
     "name": "#%%\n"
    }
   },
   "outputs": [],
   "source": [
    "min_max_scaler = MinMaxScaler()\n",
    "min_max_scaler.fit(df.iloc[:,:-1])\n",
    "X =  min_max_scaler.transform(df.iloc[:,:-1])"
   ]
  },
  {
   "cell_type": "markdown",
   "id": "9d7ddef6-e5bc-4fd4-ac9d-ccbfcdf7923a",
   "metadata": {
    "pycharm": {
     "name": "#%% md\n"
    }
   },
   "source": [
    "# Estrutura de dados\n",
    "\n",
    "Lista de tuplas(atributos, classe)"
   ]
  },
  {
   "cell_type": "code",
   "execution_count": 18,
   "id": "43d1de46-b2f9-4185-9b2d-f945d74c2371",
   "metadata": {
    "pycharm": {
     "name": "#%%\n"
    }
   },
   "outputs": [],
   "source": [
    "df_values = list(zip(X.tolist(), y))"
   ]
  },
  {
   "cell_type": "code",
   "execution_count": 19,
   "id": "fff5f52c-9a2c-4e39-ac76-3291f6f349de",
   "metadata": {
    "pycharm": {
     "name": "#%%\n"
    }
   },
   "outputs": [
    {
     "data": {
      "text/plain": [
       "[([0.24778761061946908,\n",
       "   0.39726027397260266,\n",
       "   0.0,\n",
       "   0.0684931506849315,\n",
       "   0.10684474123539231,\n",
       "   0.14084507042253522,\n",
       "   0.0989399293286219,\n",
       "   0.567547723935391,\n",
       "   0.606299212598425,\n",
       "   0.13772455089820365,\n",
       "   0.15384615384615397],\n",
       "  0),\n",
       " ([0.2831858407079646,\n",
       "   0.5205479452054794,\n",
       "   0.0,\n",
       "   0.11643835616438356,\n",
       "   0.14357262103505844,\n",
       "   0.33802816901408456,\n",
       "   0.215547703180212,\n",
       "   0.4941262848751933,\n",
       "   0.3622047244094486,\n",
       "   0.2095808383233533,\n",
       "   0.2153846153846155],\n",
       "  0),\n",
       " ([0.2831858407079646,\n",
       "   0.4383561643835616,\n",
       "   0.04,\n",
       "   0.0958904109589041,\n",
       "   0.1335559265442404,\n",
       "   0.19718309859154928,\n",
       "   0.16961130742049468,\n",
       "   0.5088105726872243,\n",
       "   0.4094488188976375,\n",
       "   0.1916167664670659,\n",
       "   0.2153846153846155],\n",
       "  0)]"
      ]
     },
     "execution_count": 19,
     "metadata": {},
     "output_type": "execute_result"
    }
   ],
   "source": [
    "df_values[:3]"
   ]
  },
  {
   "cell_type": "code",
   "execution_count": 24,
   "id": "d321c5a4",
   "metadata": {
    "collapsed": false,
    "jupyter": {
     "outputs_hidden": false
    },
    "pycharm": {
     "name": "#%%\n"
    }
   },
   "outputs": [],
   "source": [
    "with open(\"test_values.txt\", \"w\") as file:\n",
    "    file.write(\"%s\\n\" % df_values)"
   ]
  },
  {
   "cell_type": "code",
   "execution_count": 11,
   "id": "04f54968-39c8-4556-9e31-889982be1179",
   "metadata": {
    "pycharm": {
     "name": "#%%\n"
    }
   },
   "outputs": [],
   "source": [
    "K = 4"
   ]
  },
  {
   "cell_type": "code",
   "execution_count": 34,
   "id": "07355a8d",
   "metadata": {
    "collapsed": false,
    "jupyter": {
     "outputs_hidden": false
    },
    "pycharm": {
     "name": "#%%\n"
    }
   },
   "outputs": [],
   "source": [
    "def generate_folds(values: list[tuple[list[int], int]], K: int) -> list[list[int]]:\n",
    "    indexes_with_false_label = [index for index, value in enumerate(values) if value[1] == 0]\n",
    "    indexes_with_true_label = [index for index, value in enumerate(values) if value[1] == 1]\n",
    "    random.shuffle(indexes_with_false_label)\n",
    "    random.shuffle(indexes_with_true_label)\n",
    "    folds = [[] for _ in range(K)]\n",
    "    for _ in range(int(len(values) / K)):\n",
    "        try:\n",
    "            for fold in folds:\n",
    "                index_false_label = indexes_with_false_label.pop(0)\n",
    "                index_true_label = indexes_with_true_label.pop(0)\n",
    "                fold.extend([index_false_label, index_true_label])\n",
    "        except IndexError:\n",
    "            break\n",
    "\n",
    "    return set([tuple(fold) for fold in folds])"
   ]
  },
  {
   "cell_type": "code",
   "execution_count": 37,
   "id": "da5035d2-eaef-4b21-961a-5547f7191b4c",
   "metadata": {
    "pycharm": {
     "name": "#%%\n"
    }
   },
   "outputs": [],
   "source": [
    "def test_totally_disjointed_folds(folds: list[list[int]]) -> None:\n",
    "    joined_folds = []\n",
    "    for fold in folds:\n",
    "        joined_folds.extend(fold)\n",
    "\n",
    "    assert len(joined_folds) == len(set(joined_folds))"
   ]
  },
  {
   "cell_type": "code",
   "execution_count": 45,
   "id": "98419f17-b7b3-43d3-8c8c-276c237d04da",
   "metadata": {
    "pycharm": {
     "name": "#%%\n"
    }
   },
   "outputs": [],
   "source": [
    "def test_balanced_folds(folds: list[list[int]], values: list[tuple[list[int], int]]) -> None:\n",
    "    for fold in folds:\n",
    "        assert np.asarray([row[1] for index, row\n",
    "                           in enumerate(values)\n",
    "                           if index in fold]\n",
    "                          ).mean() \\\n",
    "               == 0.5"
   ]
  },
  {
   "cell_type": "code",
   "execution_count": 15,
   "id": "66d528b8",
   "metadata": {
    "collapsed": false,
    "jupyter": {
     "outputs_hidden": false
    },
    "pycharm": {
     "name": "#%%\n"
    }
   },
   "outputs": [],
   "source": [
    "def generate_splits(K: int) -> Generator[tuple[tuple[int], int], None, None]:\n",
    "    splits = []\n",
    "    for index_fold_test in range(K):\n",
    "        folds_for_training = []\n",
    "        splits.append((folds_for_training, index_fold_test))\n",
    "        for index_fold_train in range(K):\n",
    "            if index_fold_train != index_fold_test:\n",
    "                folds_for_training.append(index_fold_train)\n",
    "\n",
    "    splits = ((tuple(folds_for_training), fold_for_test) for folds_for_training, fold_for_test in splits)\n",
    "    return splits"
   ]
  },
  {
   "cell_type": "code",
   "execution_count": 35,
   "id": "c31be87a",
   "metadata": {
    "collapsed": false,
    "jupyter": {
     "outputs_hidden": false
    },
    "pycharm": {
     "name": "#%%\n"
    }
   },
   "outputs": [],
   "source": [
    "K = 10\n",
    "folds = generate_folds(df_values, K)"
   ]
  },
  {
   "cell_type": "code",
   "execution_count": 44,
   "id": "4b425a68",
   "metadata": {
    "collapsed": false,
    "jupyter": {
     "outputs_hidden": false
    },
    "pycharm": {
     "name": "#%%\n"
    }
   },
   "outputs": [
    {
     "data": {
      "text/plain": [
       "(1533,\n",
       " 271,\n",
       " 1400,\n",
       " 1023,\n",
       " 1511,\n",
       " 826,\n",
       " 580,\n",
       " 1038,\n",
       " 1492,\n",
       " 453,\n",
       " 76,\n",
       " 806,\n",
       " 400,\n",
       " 1584,\n",
       " 45,\n",
       " 715,\n",
       " 80,\n",
       " 803,\n",
       " 1579,\n",
       " 1072,\n",
       " 1189,\n",
       " 603,\n",
       " 1085,\n",
       " 113,\n",
       " 110,\n",
       " 544,\n",
       " 994,\n",
       " 357,\n",
       " 934,\n",
       " 1335,\n",
       " 893,\n",
       " 1160,\n",
       " 1370,\n",
       " 1435,\n",
       " 735,\n",
       " 1175,\n",
       " 1393,\n",
       " 494,\n",
       " 431,\n",
       " 588,\n",
       " 750,\n",
       " 614,\n",
       " 928,\n",
       " 331,\n",
       " 1225,\n",
       " 91,\n",
       " 32,\n",
       " 1134,\n",
       " 939,\n",
       " 1549,\n",
       " 1027,\n",
       " 1489,\n",
       " 1373,\n",
       " 1278,\n",
       " 1353,\n",
       " 697,\n",
       " 295,\n",
       " 270,\n",
       " 540,\n",
       " 1578,\n",
       " 757,\n",
       " 1015,\n",
       " 178,\n",
       " 1506,\n",
       " 724,\n",
       " 1079,\n",
       " 1263,\n",
       " 405,\n",
       " 120,\n",
       " 867,\n",
       " 1176,\n",
       " 953,\n",
       " 1589,\n",
       " 1014,\n",
       " 646,\n",
       " 328,\n",
       " 446,\n",
       " 868,\n",
       " 433,\n",
       " 1011,\n",
       " 1331,\n",
       " 957,\n",
       " 1260,\n",
       " 1249,\n",
       " 1069,\n",
       " 1081,\n",
       " 1124,\n",
       " 943,\n",
       " 930,\n",
       " 484,\n",
       " 728,\n",
       " 283,\n",
       " 175,\n",
       " 1206,\n",
       " 661,\n",
       " 1529,\n",
       " 581,\n",
       " 589,\n",
       " 299,\n",
       " 609,\n",
       " 879,\n",
       " 1317,\n",
       " 615,\n",
       " 401,\n",
       " 1232,\n",
       " 33,\n",
       " 719,\n",
       " 1279,\n",
       " 823,\n",
       " 558,\n",
       " 256,\n",
       " 1005,\n",
       " 38,\n",
       " 1136,\n",
       " 819,\n",
       " 231,\n",
       " 880,\n",
       " 598,\n",
       " 50,\n",
       " 1223,\n",
       " 1471,\n",
       " 1093,\n",
       " 1348,\n",
       " 516,\n",
       " 781,\n",
       " 1234,\n",
       " 1465,\n",
       " 1588,\n",
       " 545,\n",
       " 745,\n",
       " 834,\n",
       " 379,\n",
       " 1262,\n",
       " 330,\n",
       " 53,\n",
       " 509,\n",
       " 931,\n",
       " 1466,\n",
       " 333,\n",
       " 1008,\n",
       " 1523,\n",
       " 1208,\n",
       " 587,\n",
       " 1434,\n",
       " 107,\n",
       " 1321,\n",
       " 373,\n",
       " 1218)"
      ]
     },
     "execution_count": 44,
     "metadata": {},
     "output_type": "execute_result"
    }
   ],
   "source": [
    "list(folds)[0]"
   ]
  },
  {
   "cell_type": "code",
   "execution_count": 46,
   "id": "00379df5",
   "metadata": {
    "collapsed": false,
    "jupyter": {
     "outputs_hidden": false
    },
    "pycharm": {
     "name": "#%%\n"
    }
   },
   "outputs": [],
   "source": [
    "test_balanced_folds(folds, values)"
   ]
  },
  {
   "cell_type": "code",
   "execution_count": 18,
   "id": "9ad09599",
   "metadata": {
    "collapsed": false,
    "jupyter": {
     "outputs_hidden": false
    },
    "pycharm": {
     "name": "#%%\n"
    }
   },
   "outputs": [
    {
     "data": {
      "text/plain": [
       "[((1, 2, 3, 4, 5, 6, 7, 8, 9), 0),\n",
       " ((0, 2, 3, 4, 5, 6, 7, 8, 9), 1),\n",
       " ((0, 1, 3, 4, 5, 6, 7, 8, 9), 2),\n",
       " ((0, 1, 2, 4, 5, 6, 7, 8, 9), 3),\n",
       " ((0, 1, 2, 3, 5, 6, 7, 8, 9), 4),\n",
       " ((0, 1, 2, 3, 4, 6, 7, 8, 9), 5),\n",
       " ((0, 1, 2, 3, 4, 5, 7, 8, 9), 6),\n",
       " ((0, 1, 2, 3, 4, 5, 6, 8, 9), 7),\n",
       " ((0, 1, 2, 3, 4, 5, 6, 7, 9), 8),\n",
       " ((0, 1, 2, 3, 4, 5, 6, 7, 8), 9)]"
      ]
     },
     "execution_count": 18,
     "metadata": {},
     "output_type": "execute_result"
    }
   ],
   "source": [
    "list(splits)"
   ]
  },
  {
   "cell_type": "code",
   "execution_count": null,
   "id": "a0ba87ec",
   "metadata": {
    "collapsed": false,
    "jupyter": {
     "outputs_hidden": false
    },
    "pycharm": {
     "name": "#%%\n"
    }
   },
   "outputs": [],
   "source": []
  }
 ],
 "metadata": {
  "kernelspec": {
   "display_name": "Python 3 (ipykernel)",
   "language": "python",
   "name": "python3"
  },
  "language_info": {
   "codemirror_mode": {
    "name": "ipython",
    "version": 3
   },
   "file_extension": ".py",
   "mimetype": "text/x-python",
   "name": "python",
   "nbconvert_exporter": "python",
   "pygments_lexer": "ipython3",
   "version": "3.10.5"
  }
 },
 "nbformat": 4,
 "nbformat_minor": 5
}
