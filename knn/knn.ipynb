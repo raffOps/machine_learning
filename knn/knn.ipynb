{
 "cells": [
  {
   "cell_type": "code",
   "execution_count": 1,
   "id": "119230bf",
   "metadata": {
    "collapsed": false,
    "jupyter": {
     "outputs_hidden": false
    },
    "pycharm": {
     "name": "#%%\n"
    }
   },
   "outputs": [
    {
     "data": {
      "text/latex": [
       "\\tableofcontents\n"
      ],
      "text/plain": [
       "<IPython.core.display.Latex object>"
      ]
     },
     "metadata": {},
     "output_type": "display_data"
    }
   ],
   "source": [
    "%%latex\n",
    "\\tableofcontents"
   ]
  },
  {
   "cell_type": "markdown",
   "id": "bb9eb70d",
   "metadata": {
    "pycharm": {
     "name": "#%% md\n"
    }
   },
   "source": [
    "## Download do projeto\n",
    "\n",
    "Clone o [repositório](https://github.com/rjribeiro/machine_learning)\n",
    "\n",
    "\n",
    "## Configuração do ambiente\n",
    "\n",
    "\n",
    "### Opção 1: [Docker](https://docs.docker.com/get-started/)\n",
    "Execute ```bash run_jupyter.sh```\n",
    "\n",
    "Esse comando irá buildar e executar uma imagem contendo docker contendo o jupyter. \n",
    "O diretório do projeto será todo mapeado para dentro de um container. \n",
    "\n",
    "    \n",
    "### Opção 2: [Conda](https://docs.conda.io/en/latest/)\n",
    "Execute ```conda env create -f conda_environment.yml python=3.10```\n",
    "\n",
    "\n",
    "Em ambas as opções o Jupyter estará na porta http://127.0.0.1:8888\n"
   ]
  },
  {
   "cell_type": "code",
   "execution_count": 12,
   "id": "dc0ac3fc",
   "metadata": {
    "collapsed": false,
    "jupyter": {
     "outputs_hidden": false
    },
    "pycharm": {
     "name": "#%%\n"
    }
   },
   "outputs": [],
   "source": [
    "import pandas as pd\n",
    "import seaborn as sns\n",
    "from matplotlib import pyplot as plt\n",
    "from machine_learning.neighbors import KNeighborsClassifier\n",
    "from machine_learning import model_selection, preprocessing, metrics, distance"
   ]
  },
  {
   "cell_type": "code",
   "execution_count": 6,
   "id": "26a8c61e",
   "metadata": {
    "collapsed": false,
    "jupyter": {
     "outputs_hidden": false
    },
    "pycharm": {
     "name": "#%%\n"
    }
   },
   "outputs": [],
   "source": [
    "df = pd.read_csv(\"../data/breast_cancer_data.csv\", index_col=0)"
   ]
  },
  {
   "cell_type": "markdown",
   "id": "ccecaf1f",
   "metadata": {
    "pycharm": {
     "name": "#%% md\n"
    }
   },
   "source": [
    "## Questão 3.1 e 4\n",
    "\n",
    "**Há uma grande diferença entre os valores máximo e mínimo de cada atributo?**\n",
    "\n",
    "Sim, conforme mostrado no plot abaixo, principalmente entre os máximos.\n",
    "Atributos com escalas maiores tendem a inviesar modelos de aprendizado de máquina baseados em distância.\n",
    "Nesse casos é recomendado normalizar aos dados, trazendo os atributos para escalas semelhantes.\n",
    "Nesse trabalho a normalização padrão é a Min-Max, conforme sugerido na especificação. Sua implentação pode ser conferida [aqui](https://github.com/rjribeiro/machine_learning/blob/f1a6c5dda3e3328781a57596a470b31fb41780bd/machine_learning/preprocessing.py)."
   ]
  },
  {
   "cell_type": "code",
   "execution_count": 7,
   "id": "c607e2c5",
   "metadata": {
    "collapsed": false,
    "jupyter": {
     "outputs_hidden": false
    },
    "pycharm": {
     "name": "#%%\n"
    }
   },
   "outputs": [
    {
     "data": {
      "image/png": "[encoded data removed]",
      "text/plain": [
       "<Figure size 576x432 with 1 Axes>"
      ]
     },
     "metadata": {
      "needs_background": "light"
     },
     "output_type": "display_data"
    }
   ],
   "source": [
    "max_min = df.describe().transpose()[[\"max\", \"min\"]]\n",
    "\n",
    "f, ax = plt.subplots(figsize=(8, 6))\n",
    "sns.violinplot(data=max_min)\n",
    "f.suptitle(\"Distribuição dos máximos e minimos dos atributos\")\n",
    "sns.despine(left=True, bottom=True)"
   ]
  },
  {
   "cell_type": "markdown",
   "id": "f7820ac0",
   "metadata": {
    "pycharm": {
     "name": "#%% md\n"
    }
   },
   "source": [
    "## Questão 2 e 3.2\n",
    "\n",
    "**Implemente uma função para fazer a divisão dos dados em treino e teste, de acordo com o método holdout. A proporção de dados mantida no conjunto de treinamento (ou, alternativamente, direcionada ao conjunto de teste) deve ser informada como parâmetro da função (por exemplo, prop_treino = 0.8 indicaria que 80% dos dados serão usados como conjunto de treinamento). A divisão dos dados deve ser estratificada**\n",
    "\n",
    "Abaixo está o uso da função ```get_balanced_holdout``` que recebe o X e Y do dataset, a proporção de dados a ser utilizada para teste e o valor que configura o estado da biblioteca random.\n",
    "\n",
    "A função ```get_balanced_holdout```, cujo código completo pode ser conferido [aqui](https://github.com/rjribeiro/machine_learning/blob/f1a6c5dda3e3328781a57596a470b31fb41780bd/machine_learning/model_selection.py#L7), implementa a divisão do dataset\n",
    "entre treino e teste estratificando as classes alvo em cada conjunto.\n",
    "No momento o código funciona somente para classes binárias.\n",
    "Outro detalhe é que a variável seed ainda não demonstrou funcionar corretamente, ou seja, a cada execução da função são retornados conjuntos diferentes."
   ]
  },
  {
   "cell_type": "code",
   "execution_count": 9,
   "id": "38df412a",
   "metadata": {
    "collapsed": false,
    "jupyter": {
     "outputs_hidden": false
    },
    "pycharm": {
     "name": "#%%\n"
    }
   },
   "outputs": [],
   "source": [
    "X = df.iloc[:, :-1]\n",
    "y = df.target\n",
    "\n",
    "X_train, X_test, y_train, y_test = model_selection.get_balanced_holdout(X, y, test_size=0.2, seed=42)"
   ]
  },
  {
   "cell_type": "markdown",
   "id": "cfc81e39",
   "metadata": {
    "pycharm": {
     "name": "#%% md\n"
    }
   },
   "source": [
    "## Questão 3.3\n",
    "\n",
    "**A partir dos dados de treinamento, classifique os dados de teste usando k=1, k=3, k=5, e k=7 (se desejar, avalie valores adicionais para k) com base na sua implementação. Avalie o desempenho do modelo usando a métrica de acurácia (taxa de acerto), reportando para cada valor de k a porcentagem de instâncias de teste classificadas corretamente.**"
   ]
  },
  {
   "cell_type": "code",
   "execution_count": 10,
   "id": "557336ab",
   "metadata": {
    "collapsed": false,
    "jupyter": {
     "outputs_hidden": false
    },
    "pycharm": {
     "name": "#%%\n"
    }
   },
   "outputs": [],
   "source": [
    "accuracies = []\n",
    "Ks = [1, 3, 5, 7, 9, 11, 13]\n",
    "for k in Ks:\n",
    "    classifier = KNeighborsClassifier(k=k, distance_function=distance.get_euclidean_distance)\n",
    "    classifier.fit(X_train, y_train)\n",
    "    predicted = classifier.predict(X_test)\n",
    "    accuracies.append((k, metrics.get_accuracy(y_test, predicted), 0))\n",
    "\n",
    "    X_train_normalized = preprocessing.min_max_normalize(X_train)\n",
    "    classifier.fit(X_train_normalized, y_train)\n",
    "    X_test_normalized = preprocessing.min_max_normalize(X_test)\n",
    "    predicted = classifier.predict(X_test_normalized)\n",
    "    accuracies.append((k, metrics.get_accuracy(y_test, predicted), 1))"
   ]
  },
  {
   "cell_type": "code",
   "execution_count": 11,
   "id": "425fad13",
   "metadata": {
    "collapsed": false,
    "jupyter": {
     "outputs_hidden": false
    },
    "pycharm": {
     "name": "#%%\n"
    }
   },
   "outputs": [
    {
     "data": {
      "text/html": [
       "<div>\n",
       "<style scoped>\n",
       "    .dataframe tbody tr th:only-of-type {\n",
       "        vertical-align: middle;\n",
       "    }\n",
       "\n",
       "    .dataframe tbody tr th {\n",
       "        vertical-align: top;\n",
       "    }\n",
       "\n",
       "    .dataframe thead th {\n",
       "        text-align: right;\n",
       "    }\n",
       "</style>\n",
       "<table border=\"1\" class=\"dataframe\">\n",
       "  <thead>\n",
       "    <tr style=\"text-align: right;\">\n",
       "      <th></th>\n",
       "      <th>k</th>\n",
       "      <th>accuracy</th>\n",
       "      <th>is_normalized</th>\n",
       "    </tr>\n",
       "  </thead>\n",
       "  <tbody>\n",
       "    <tr>\n",
       "      <th>0</th>\n",
       "      <td>1</td>\n",
       "      <td>0.877193</td>\n",
       "      <td>0</td>\n",
       "    </tr>\n",
       "    <tr>\n",
       "      <th>1</th>\n",
       "      <td>1</td>\n",
       "      <td>0.929825</td>\n",
       "      <td>1</td>\n",
       "    </tr>\n",
       "    <tr>\n",
       "      <th>2</th>\n",
       "      <td>3</td>\n",
       "      <td>0.885965</td>\n",
       "      <td>0</td>\n",
       "    </tr>\n",
       "    <tr>\n",
       "      <th>3</th>\n",
       "      <td>3</td>\n",
       "      <td>0.964912</td>\n",
       "      <td>1</td>\n",
       "    </tr>\n",
       "    <tr>\n",
       "      <th>4</th>\n",
       "      <td>5</td>\n",
       "      <td>0.894737</td>\n",
       "      <td>0</td>\n",
       "    </tr>\n",
       "    <tr>\n",
       "      <th>5</th>\n",
       "      <td>5</td>\n",
       "      <td>0.956140</td>\n",
       "      <td>1</td>\n",
       "    </tr>\n",
       "    <tr>\n",
       "      <th>6</th>\n",
       "      <td>7</td>\n",
       "      <td>0.877193</td>\n",
       "      <td>0</td>\n",
       "    </tr>\n",
       "    <tr>\n",
       "      <th>7</th>\n",
       "      <td>7</td>\n",
       "      <td>0.964912</td>\n",
       "      <td>1</td>\n",
       "    </tr>\n",
       "    <tr>\n",
       "      <th>8</th>\n",
       "      <td>9</td>\n",
       "      <td>0.885965</td>\n",
       "      <td>0</td>\n",
       "    </tr>\n",
       "    <tr>\n",
       "      <th>9</th>\n",
       "      <td>9</td>\n",
       "      <td>0.964912</td>\n",
       "      <td>1</td>\n",
       "    </tr>\n",
       "    <tr>\n",
       "      <th>10</th>\n",
       "      <td>11</td>\n",
       "      <td>0.903509</td>\n",
       "      <td>0</td>\n",
       "    </tr>\n",
       "    <tr>\n",
       "      <th>11</th>\n",
       "      <td>11</td>\n",
       "      <td>0.973684</td>\n",
       "      <td>1</td>\n",
       "    </tr>\n",
       "    <tr>\n",
       "      <th>12</th>\n",
       "      <td>13</td>\n",
       "      <td>0.903509</td>\n",
       "      <td>0</td>\n",
       "    </tr>\n",
       "    <tr>\n",
       "      <th>13</th>\n",
       "      <td>13</td>\n",
       "      <td>0.982456</td>\n",
       "      <td>1</td>\n",
       "    </tr>\n",
       "  </tbody>\n",
       "</table>\n",
       "</div>"
      ],
      "text/plain": [
       "     k  accuracy  is_normalized\n",
       "0    1  0.877193              0\n",
       "1    1  0.929825              1\n",
       "2    3  0.885965              0\n",
       "3    3  0.964912              1\n",
       "4    5  0.894737              0\n",
       "5    5  0.956140              1\n",
       "6    7  0.877193              0\n",
       "7    7  0.964912              1\n",
       "8    9  0.885965              0\n",
       "9    9  0.964912              1\n",
       "10  11  0.903509              0\n",
       "11  11  0.973684              1\n",
       "12  13  0.903509              0\n",
       "13  13  0.982456              1"
      ]
     },
     "execution_count": 11,
     "metadata": {},
     "output_type": "execute_result"
    }
   ],
   "source": [
    "results = pd.DataFrame(data=accuracies, columns=[\"k\", \"accuracy\", \"is_normalized\"])\n",
    "results"
   ]
  },
  {
   "cell_type": "markdown",
   "id": "8eca434c",
   "metadata": {
    "pycharm": {
     "name": "#%% md\n"
    }
   },
   "source": [
    "## Questão 3.4\n",
    "\n",
    "**Faça uma avaliação do resultado, brevemente discutindo os achados e se existe alguma tendência ou associação entre desempenho e valor de k.**\n",
    "\n",
    "Análise dos resultados\n",
    "\n",
    " - De acordo com o plot abaixo, o melhor valor de K, para o conjunto de treino e teste configurado acima,  seria 13.\n",
    "Importante resaltar que o melhor valor de K varia muito de acordo com o conjunto de treino e teste.\n",
    "Em alguns testes o melhor K foi 3, em outros 7. Isso demonstra na prática o viés de busca.\n",
    "\n",
    " - Qualquer K com dataset normalizado sempre terá um resultado melhor do que qualquer K com dataset não normalizado. Para mim está claro o quanto a normalização é importante, principalmente em modelos de ML baseados em distância.\n",
    "\n",
    "Avaliações mais precisas precisariam de:\n",
    "\n",
    "  - Métodos de validação cruzada mais robustos como K-fold, Leave-one-Out, etc.\n",
    "\n",
    "\n",
    "  - Métodos de otimização de hiperparâmetros mais robustos como GridSearch, BayesSearch, etc."
   ]
  },
  {
   "cell_type": "code",
   "execution_count": 18,
   "id": "804d3cf4",
   "metadata": {
    "collapsed": false,
    "jupyter": {
     "outputs_hidden": false
    },
    "pycharm": {
     "name": "#%%\n"
    }
   },
   "outputs": [
    {
     "data": {
      "image/png": "[encoded data removed]",
      "text/plain": [
       "<Figure size 792x432 with 1 Axes>"
      ]
     },
     "metadata": {
      "needs_background": "light"
     },
     "output_type": "display_data"
    }
   ],
   "source": [
    "f, ax = plt.subplots(figsize=(11, 6))\n",
    "results.groupby(\"is_normalized\").plot(x=\"k\", y=\"accuracy\", marker=\"o\", ax=ax)\n",
    "f.suptitle(\"Classificador KKN: Acurácia com dodos não normalizados e normalizados\")\n",
    "plt.ylabel(\"Acurácia\")\n",
    "plt.xlabel(\"K\")\n",
    "plt.legend([\"Não normalizado\",\"Normalizado\"])\n",
    "sns.despine(left=True, bottom=True)"
   ]
  },
  {
   "cell_type": "code",
   "execution_count": null,
   "id": "a7079ac9",
   "metadata": {
    "collapsed": false,
    "jupyter": {
     "outputs_hidden": false
    },
    "pycharm": {
     "name": "#%%\n"
    }
   },
   "outputs": [],
   "source": []
  }
 ],
 "metadata": {
  "kernelspec": {
   "display_name": "Python 3 (ipykernel)",
   "language": "python",
   "name": "python3"
  },
  "language_info": {
   "codemirror_mode": {
    "name": "ipython",
    "version": 3
   },
   "file_extension": ".py",
   "mimetype": "text/x-python",
   "name": "python",
   "nbconvert_exporter": "python",
   "pygments_lexer": "ipython3",
   "version": "3.10.5"
  },
  "toc-autonumbering": false
 },
 "nbformat": 4,
 "nbformat_minor": 5
}